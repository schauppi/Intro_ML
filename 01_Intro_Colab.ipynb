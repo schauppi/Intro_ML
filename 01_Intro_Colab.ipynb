{
  "nbformat": 4,
  "nbformat_minor": 0,
  "metadata": {
    "colab": {
      "provenance": [],
      "authorship_tag": "ABX9TyOXwrJ4t2t8kgECl4eGmk/1",
      "include_colab_link": true
    },
    "kernelspec": {
      "name": "python3",
      "display_name": "Python 3"
    },
    "language_info": {
      "name": "python"
    }
  },
  "cells": [
    {
      "cell_type": "markdown",
      "metadata": {
        "id": "view-in-github",
        "colab_type": "text"
      },
      "source": [
        "<a href=\"https://colab.research.google.com/github/schauppi/UAS_Intro_ML/blob/main/Intro_Colab_raw.ipynb\" target=\"_parent\"><img src=\"https://colab.research.google.com/assets/colab-badge.svg\" alt=\"Open In Colab\"/></a>"
      ]
    },
    {
      "cell_type": "markdown",
      "source": [
        "# Introduction to Colab\n",
        "This is a *Jupyter notebook* with blocks of code called *cells*. You can press shift+ENTER to *run* a cell and go on to the next one. You can also edit the code and run it again to see how the output changes.\n",
        "\n",
        "You'll see a popup window the first time saying \"Warning\". Don't worry, it's safe. Click on \"run anyway\".\n",
        "\n",
        "Try running the following cells by pressing SHIFT and ENTER (at the same time) for each one.\n",
        "\n",
        "*You won't hurt anything by experimenting. If you break it, close the tab and open the activity again to start over.*\n"
      ],
      "metadata": {
        "id": "9KpYCvA2PcwD"
      }
    },
    {
      "cell_type": "code",
      "execution_count": null,
      "metadata": {
        "id": "VZOFwtiXPEc6"
      },
      "outputs": [],
      "source": [
        "# Click on this cell. Then, press SHIFT and ENTER at the same time or click on the play button.\n",
        "2+2"
      ]
    },
    {
      "cell_type": "code",
      "source": [
        "# This is called a \"comment\". It's a message to other humans.\n",
        "# Starting with # tells the program not to read this line.\n",
        "# the program will run the next line since it doesn't start with #\n",
        "5-4"
      ],
      "metadata": {
        "id": "LixIIPioPoJx"
      },
      "execution_count": null,
      "outputs": []
    },
    {
      "cell_type": "code",
      "source": [
        "# the following lines define variables called \"a\" and \"b\"\n",
        "\n",
        "\n",
        "# the next line shows us what a plus b is.\n"
      ],
      "metadata": {
        "id": "-6XzhKZdPv5B"
      },
      "execution_count": null,
      "outputs": []
    },
    {
      "cell_type": "code",
      "source": [
        " # this line calculates a times a and saves the result as a varialbe called \"c\"\n",
        "       # this line tells the program to show us what \"c\" is."
      ],
      "metadata": {
        "id": "rTjCHTVrPyWM"
      },
      "execution_count": null,
      "outputs": []
    },
    {
      "cell_type": "code",
      "source": [
        "# this coding language is called \"python\"\n",
        " # yep you did!\n"
      ],
      "metadata": {
        "id": "PGCQw66pP0iF"
      },
      "execution_count": null,
      "outputs": []
    },
    {
      "cell_type": "markdown",
      "source": [
        "# Markdown\n",
        "The cells above are *code cells* that let you to run code. This is a *markdown cell* that contains markdown text. That's text that isn't read as Python code. Instead, you can format markdown text to look nice.\n",
        "\n",
        "Double-click on this cell to see the markdown text underneath. Running a markdown cell turns it into pretty, formatted text.\n",
        "- here's a bullet point\n",
        "- and another list item in *italics* and **bold**.\n",
        "- this is a hyperlink to [my favorite thing on the web](https://www.youtube.com/watch?v=dQw4w9WgXcQ)\n",
        "- You can even embed images  \n",
        "![cute kitten](https://github.com/adamlamee/CODINGinK12/raw/master/notebooks/1dayoldkitten.png)  \n",
        "\n",
        "## Try this\n",
        "Double-click on this cell to see the code that formats this text. Make a few edits and press shift+ENTER to see the changes.\n",
        "\n",
        "Read more about [formatting the markdown text](https://help.github.com/articles/basic-writing-and-formatting-syntax/) in a cell, like this one, or go to Help > Markdown > Basic Writing and Formatting Text."
      ],
      "metadata": {
        "id": "VWWbc68LQN2h"
      }
    },
    {
      "cell_type": "markdown",
      "source": [
        "---\n",
        "## Saving Your Work\n",
        "This is running on a Google server on a distant planet and deletes what you've done when you close this tab. To save your work for later use or analysis you have a few options:\n",
        "- File > \"Save a copy in Drive\" will save it to you Google Drive in a folder called \"Collaboratory\". You can run it later from there.  \n",
        "- File > \"Download .ipynb\" to save to your computer (and run with Jupyter software later)\n",
        "- File > Print to ... um ... print.\n",
        "- Save an image to your computer of a graph or chart, right-click on it and select Save Image as ...\n"
      ],
      "metadata": {
        "id": "x9XWPkaPQSmw"
      }
    }
  ]
}