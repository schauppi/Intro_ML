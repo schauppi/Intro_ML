{
  "nbformat": 4,
  "nbformat_minor": 0,
  "metadata": {
    "colab": {
      "provenance": [],
      "toc_visible": true
    },
    "kernelspec": {
      "name": "python3",
      "display_name": "Python 3"
    },
    "language_info": {
      "name": "python"
    }
  },
  "cells": [
    {
      "cell_type": "markdown",
      "source": [
        "#NumPy\n",
        "NumPy is the fundamental library for scientific computing with Python. NumPy is centered around a powerful N-dimensional array object, and it also contains useful linear algebra, Fourier transform, and random number functions."
      ],
      "metadata": {
        "id": "Fu3ndu0ivnib"
      }
    },
    {
      "cell_type": "markdown",
      "source": [
        "## Creating Arrays\n",
        "Now let's import `numpy`. Most people import it as `np`:"
      ],
      "metadata": {
        "id": "zw_LZvUovsLy"
      }
    },
    {
      "cell_type": "code",
      "source": [
        "import numpy as np"
      ],
      "metadata": {
        "id": "0Yonnbfkvy2z"
      },
      "execution_count": null,
      "outputs": []
    },
    {
      "cell_type": "markdown",
      "source": [
        "## Zeros\n",
        "The `zeros` function creates an array containing any number of zeros:"
      ],
      "metadata": {
        "id": "Q3G3PHePwD8d"
      }
    },
    {
      "cell_type": "code",
      "source": [
        "np.zeros(5)"
      ],
      "metadata": {
        "id": "Vp9JU34Vv2-2"
      },
      "execution_count": null,
      "outputs": []
    },
    {
      "cell_type": "markdown",
      "source": [
        "It's just as easy to create a 2D array (i.e. a matrix) by providing a tuple with the desired number of rows and columns. For example, here's a 3x4 matrix:\n"
      ],
      "metadata": {
        "id": "86BQ_8JhwOpq"
      }
    },
    {
      "cell_type": "code",
      "source": [
        "np.zeros((3,4))"
      ],
      "metadata": {
        "id": "LU_4LZHBwKq3"
      },
      "execution_count": null,
      "outputs": []
    },
    {
      "cell_type": "markdown",
      "source": [
        "## Some vocabulary\n",
        "\n",
        "* In NumPy, each dimension is called an **axis**.\n",
        "* The number of axes is called the **rank**.\n",
        "    * For example, the above 3x4 matrix is an array of rank 2 (it is 2-dimensional).\n",
        "    * The first axis has length 3, the second has length 4.\n",
        "* An array's list of axis lengths is called the **shape** of the array.\n",
        "    * For example, the above matrix's shape is `(3, 4)`.\n",
        "    * The rank is equal to the shape's length.\n",
        "* The **size** of an array is the total number of elements, which is the product of all axis lengths (e.g. 3*4=12)"
      ],
      "metadata": {
        "id": "p4fL3PNOwUiw"
      }
    },
    {
      "cell_type": "code",
      "source": [
        "a = np.zeros((3,4))\n",
        "a"
      ],
      "metadata": {
        "id": "Ti8KZ4y8wRDO"
      },
      "execution_count": null,
      "outputs": []
    },
    {
      "cell_type": "code",
      "source": [
        "a.shape"
      ],
      "metadata": {
        "id": "geawC10lwTYf"
      },
      "execution_count": null,
      "outputs": []
    },
    {
      "cell_type": "code",
      "source": [
        "a.ndim  # equal to len(a.shape)"
      ],
      "metadata": {
        "id": "yuOUDTPkwa3i"
      },
      "execution_count": null,
      "outputs": []
    },
    {
      "cell_type": "code",
      "source": [
        "a.size"
      ],
      "metadata": {
        "id": "jIWQ2XaRwcYJ"
      },
      "execution_count": null,
      "outputs": []
    },
    {
      "cell_type": "markdown",
      "source": [
        "## N-dimensional arrays\n",
        "You can also create an N-dimensional array of arbitrary rank. For example, here's a 3D array (rank=3), with shape `(2,3,4)`:"
      ],
      "metadata": {
        "id": "TFH6FR0mwr2F"
      }
    },
    {
      "cell_type": "code",
      "source": [
        "np.zeros((2,3,4))"
      ],
      "metadata": {
        "id": "vQ7ZFwwJwgD-"
      },
      "execution_count": null,
      "outputs": []
    },
    {
      "cell_type": "markdown",
      "source": [
        "## Array type\n",
        "NumPy arrays have the type `ndarray`s:"
      ],
      "metadata": {
        "id": "6Eqc0A5ywyki"
      }
    },
    {
      "cell_type": "code",
      "source": [
        "type(np.zeros((3,4)))"
      ],
      "metadata": {
        "id": "qmPY-Q5DwurM"
      },
      "execution_count": null,
      "outputs": []
    },
    {
      "cell_type": "markdown",
      "source": [
        "## `np.ones`\n",
        "Many other NumPy functions create `ndarray`s.\n",
        "\n",
        "Here's a 3x4 matrix full of ones:"
      ],
      "metadata": {
        "id": "2KyocPzyw2St"
      }
    },
    {
      "cell_type": "code",
      "source": [
        "np.ones((3,4))"
      ],
      "metadata": {
        "id": "Gc6pDaS3w0eL"
      },
      "execution_count": null,
      "outputs": []
    },
    {
      "cell_type": "markdown",
      "source": [
        "## `np.full`\n",
        "Creates an array of the given shape initialized with the given value. Here's a 3x4 matrix full of `π`."
      ],
      "metadata": {
        "id": "Ej9UGVYmw-FV"
      }
    },
    {
      "cell_type": "code",
      "source": [
        "np.full((3,4), np.pi)"
      ],
      "metadata": {
        "id": "_WW8xMxtw4k0"
      },
      "execution_count": null,
      "outputs": []
    },
    {
      "cell_type": "markdown",
      "source": [
        "## `np.empty`\n",
        "An uninitialized 2x3 array (its content is not predictable, as it is whatever is in memory at that point):"
      ],
      "metadata": {
        "id": "SJuv_lVGxDLO"
      }
    },
    {
      "cell_type": "code",
      "source": [
        "np.empty((2,3))"
      ],
      "metadata": {
        "id": "865SQlt5xAIY"
      },
      "execution_count": null,
      "outputs": []
    },
    {
      "cell_type": "markdown",
      "source": [
        "## np.array\n",
        "Of course, you can initialize an `ndarray` using a regular python array. Just call the `array` function:"
      ],
      "metadata": {
        "id": "cBwGCrXjxHsd"
      }
    },
    {
      "cell_type": "code",
      "source": [
        "np.array([[1,2,3,4], [10, 20, 30, 40]])"
      ],
      "metadata": {
        "id": "jCHtdsQQxFbw"
      },
      "execution_count": null,
      "outputs": []
    },
    {
      "cell_type": "markdown",
      "source": [
        "## `np.arange`\n",
        "You can create an `ndarray` using NumPy's `arange` function, which is similar to python's built-in `range` function:"
      ],
      "metadata": {
        "id": "9RBVh8h_x4Du"
      }
    },
    {
      "cell_type": "code",
      "source": [
        "np.arange(1, 5)"
      ],
      "metadata": {
        "id": "HChDL_1RxIR6"
      },
      "execution_count": null,
      "outputs": []
    },
    {
      "cell_type": "markdown",
      "source": [
        "Of course, you can provide a step parameter:"
      ],
      "metadata": {
        "id": "dwrxH-piyBwX"
      }
    },
    {
      "cell_type": "code",
      "source": [
        "np.arange(1, 5, 0.5)"
      ],
      "metadata": {
        "id": "ffUzRiNex6Mp"
      },
      "execution_count": null,
      "outputs": []
    },
    {
      "cell_type": "markdown",
      "source": [
        "## `reshape`\n",
        "The `reshape` function returns a new `ndarray` object pointing at the *same* data. This means that modifying one array will also modify the other."
      ],
      "metadata": {
        "id": "i44MdAIL9R2d"
      }
    },
    {
      "cell_type": "code",
      "source": [
        "g = np.arange(24)\n",
        "print(g)"
      ],
      "metadata": {
        "id": "p6wBIA0P9ToV"
      },
      "execution_count": null,
      "outputs": []
    },
    {
      "cell_type": "code",
      "source": [
        "g2 = g.reshape(4,6)\n",
        "print(g2)"
      ],
      "metadata": {
        "id": "COdwVi8D9X0i"
      },
      "execution_count": null,
      "outputs": []
    },
    {
      "cell_type": "markdown",
      "source": [
        "## `np.rand` and `np.randn`\n",
        "A number of functions are available in NumPy's `random` module to create `ndarray`s initialized with random values.\n",
        "For example, here is a 3x4 matrix initialized with random floats between 0 and 1 (uniform distribution):"
      ],
      "metadata": {
        "id": "tFq7j2MlyKnu"
      }
    },
    {
      "cell_type": "code",
      "source": [
        "np.random.rand(3,4)"
      ],
      "metadata": {
        "id": "5chH9CBcyD8w"
      },
      "execution_count": null,
      "outputs": []
    },
    {
      "cell_type": "markdown",
      "source": [
        "Here's a 3x4 matrix containing random floats sampled from a univariate [normal distribution](https://en.wikipedia.org/wiki/Normal_distribution) (Gaussian distribution) of mean 0 and variance 1:"
      ],
      "metadata": {
        "id": "fU7h6_SAyPaa"
      }
    },
    {
      "cell_type": "code",
      "source": [
        "np.random.randn(3,4)"
      ],
      "metadata": {
        "id": "NXJXDZsZyNYN"
      },
      "execution_count": null,
      "outputs": []
    },
    {
      "cell_type": "markdown",
      "source": [
        "To give you a feel of what these distributions look like, let's use matplotlib (we cover matplotlib later)"
      ],
      "metadata": {
        "id": "hnAN522My2GS"
      }
    },
    {
      "cell_type": "code",
      "source": [
        "import matplotlib.pyplot as plt"
      ],
      "metadata": {
        "id": "KShu-9sNySKx"
      },
      "execution_count": null,
      "outputs": []
    },
    {
      "cell_type": "code",
      "source": [
        "plt.hist(np.random.rand(100000), density=True, bins=100, histtype=\"step\", color=\"blue\", label=\"rand\")\n",
        "plt.hist(np.random.randn(100000), density=True, bins=100, histtype=\"step\", color=\"red\", label=\"randn\")\n",
        "plt.axis([-2.5, 2.5, 0, 1.1])\n",
        "plt.legend(loc = \"upper left\")\n",
        "plt.title(\"Random distributions\")\n",
        "plt.xlabel(\"Value\")\n",
        "plt.ylabel(\"Density\")\n",
        "plt.show()"
      ],
      "metadata": {
        "id": "0lUg_Hsxy1CI"
      },
      "execution_count": null,
      "outputs": []
    },
    {
      "cell_type": "markdown",
      "source": [
        "#Excercise\n",
        "Create a python function called 'reshape_matrix' that takes two parameters: 'val_start', 'val_stop'. First, the function should create an one dimensional array given the two parameters. Then the function should check if the item count in the array is 12. If there are 12 items in the generated array it should return a reshaped array in shape (3, 4). If this is not met, the function should return simply 'False'"
      ],
      "metadata": {
        "id": "MvFFJdpN8Bv9"
      }
    },
    {
      "cell_type": "code",
      "source": [
        "def reshape_matrix(val_start, val_stop):\n",
        "    arr = np.arange(val_start, val_stop)\n",
        "    if len(arr) == 12:\n",
        "        return arr.reshape(3, 4)\n",
        "    return False"
      ],
      "metadata": {
        "id": "xXEQXn9-8DQz"
      },
      "execution_count": null,
      "outputs": []
    },
    {
      "cell_type": "code",
      "source": [
        "print(reshape_matrix(1, 13))"
      ],
      "metadata": {
        "id": "_-nkGKLI_9Xl"
      },
      "execution_count": null,
      "outputs": []
    },
    {
      "cell_type": "markdown",
      "source": [
        "Create a python function called 'mirror_identity' that accepts an integer parameter 'i'. The function should initially create an identity matrix of size 'i'. The identity matrix should then be mirrored along the y-axis using an build in numpy function which flips the array in the left/right direction. The flipped matrix should be returned as the function's result."
      ],
      "metadata": {
        "id": "3k3K16VuBo08"
      }
    },
    {
      "cell_type": "code",
      "source": [
        "def mirror_identity(i):\n",
        "    # Create an identity matrix\n",
        "    identity = np.eye(i)\n",
        "    print(identity)\n",
        "\n",
        "    # Reverse the identity matrix along the second axis (y-axis)\n",
        "    mirrored_identity = np.fliplr(identity)\n",
        "\n",
        "    return mirrored_identity"
      ],
      "metadata": {
        "id": "pycRelUwBArD"
      },
      "execution_count": null,
      "outputs": []
    },
    {
      "cell_type": "code",
      "source": [
        "print(mirror_identity(3))"
      ],
      "metadata": {
        "id": "VKOnvJSGBTBO"
      },
      "execution_count": null,
      "outputs": []
    }
  ]
}