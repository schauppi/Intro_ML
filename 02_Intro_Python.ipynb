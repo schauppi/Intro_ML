{
  "nbformat": 4,
  "nbformat_minor": 0,
  "metadata": {
    "colab": {
      "provenance": [],
      "toc_visible": true,
      "authorship_tag": "ABX9TyO+T00LQ1/5uSHJNvGvoEa8",
      "include_colab_link": true
    },
    "kernelspec": {
      "name": "python3",
      "display_name": "Python 3"
    },
    "language_info": {
      "name": "python"
    }
  },
  "cells": [
    {
      "cell_type": "markdown",
      "metadata": {
        "id": "view-in-github",
        "colab_type": "text"
      },
      "source": [
        "<a href=\"https://colab.research.google.com/github/schauppi/UAS_Intro_ML/blob/main/Intro_Python_raw.ipynb\" target=\"_parent\"><img src=\"https://colab.research.google.com/assets/colab-badge.svg\" alt=\"Open In Colab\"/></a>"
      ]
    },
    {
      "cell_type": "markdown",
      "source": [
        "#What is Python?\n",
        "\n",
        "Python is a popular programming language. It was created by [Guido van Rossum](https://en.wikipedia.org/wiki/Guido_van_Rossum), and released in 1991.\n",
        "\n",
        "It is used for:\n",
        "\n",
        "* web development (server-side)\n",
        "* software development\n",
        "* mathematics\n",
        "* **machine learning**\n",
        "* system scripting\n",
        "* etc.\n",
        "\n",
        "## What can Python do?\n",
        "\n",
        "* Python can be used on a server to create web applications.\n",
        "* Python can be used alongside software to create workflows.\n",
        "* Python can connect to database systems. It can also read and modify files.\n",
        "* Python can be used to handle big data and perform complex mathematics alias **machine learning**\n",
        "* Python can be used for rapid prototyping, or for production-ready software development.\n",
        "\n",
        "## Why Python?\n",
        "\n",
        "* Python works on different platforms (Windows, Mac, Linux, Raspberry Pi, etc).\n",
        "* Python has a simple syntax similar to the English language.\n",
        "* Python has syntax that allows developers to write programs with fewer lines than some other programming languages.\n",
        "* Python runs on an interpreter system, meaning that code can be executed as soon as it is written. This means that prototyping can be very quick.\n",
        "* Python can be treated in a procedural way, an object-oriented way or a functional way.\n",
        "\n",
        "## Good to know\n",
        "\n",
        "* The most recent major version of Python is Python 3 (3.10.12 here in **google colab**), which we will be using in this introduction and the further course. However, Python 2, although not being updated with anything other than security updates, is still quite popular.\n",
        "* You can check the python version with the following command:\n",
        "\n",
        "```\n",
        "!python --version\n",
        "```\n",
        "\n",
        "\n",
        "* In this intro Python will be written in a jupyter notebook alias **google colab**. It is possible to write Python in an Integrated Development Environment, such as Thonny, Pycharm, Netbeans or Eclipse which are particularly useful when managing larger collections of Python files."
      ],
      "metadata": {
        "id": "4_2R7yDkTEdH"
      }
    },
    {
      "cell_type": "code",
      "source": [
        "!python --version"
      ],
      "metadata": {
        "id": "Y56YdYAJUE4A"
      },
      "execution_count": null,
      "outputs": []
    },
    {
      "cell_type": "markdown",
      "source": [
        "##Python Syntax compared to other programming languages\n",
        "\n",
        "* Python was designed for readability, and has some similarities to the English language with influence from mathematics.\n",
        "* Python uses new lines to complete a command, as opposed to other programming languages which often use semicolons or parentheses.\n",
        "* Python relies on indentation, using whitespace, to define scope; such as the scope of loops, functions and classes. Other programming languages often use curly-brackets for this purpose."
      ],
      "metadata": {
        "id": "bUJFfgMdVCV5"
      }
    },
    {
      "cell_type": "markdown",
      "source": [
        "\n",
        "\n",
        "---\n",
        "\n"
      ],
      "metadata": {
        "id": "RdUuh0VUVa4w"
      }
    },
    {
      "cell_type": "markdown",
      "source": [
        "# Let´s get started"
      ],
      "metadata": {
        "id": "LdLjPPaAWBoO"
      }
    },
    {
      "cell_type": "markdown",
      "source": [
        "## Indentation\n",
        "Indentation refers to the spaces at the beginning of a code line.\n",
        "\n",
        "Where in other programming languages the indentation in code is for readability only, the indentation in Python is very important.\n",
        "\n",
        "Python uses indentation to indicate a block of code."
      ],
      "metadata": {
        "id": "cGEkPwZXVeON"
      }
    },
    {
      "cell_type": "code",
      "source": [],
      "metadata": {
        "id": "OYhwJZRmUf2Z"
      },
      "execution_count": null,
      "outputs": []
    },
    {
      "cell_type": "markdown",
      "source": [
        "Python will give you an error if you skip the indentation:"
      ],
      "metadata": {
        "id": "gdm9m9XgWNMY"
      }
    },
    {
      "cell_type": "code",
      "source": [],
      "metadata": {
        "id": "Qhy93QW1WJeG"
      },
      "execution_count": null,
      "outputs": []
    },
    {
      "cell_type": "markdown",
      "source": [
        "##Comments\n",
        "Comments starts with a #, and Python will ignore them:"
      ],
      "metadata": {
        "id": "oKTrfb_3cToy"
      }
    },
    {
      "cell_type": "code",
      "source": [],
      "metadata": {
        "id": "3Wjc1l6mcYPR"
      },
      "execution_count": null,
      "outputs": []
    },
    {
      "cell_type": "markdown",
      "source": [
        "Since Python will ignore string literals that are not assigned to a variable, you can add a multiline string (triple quotes) in your code, and place your comment inside it:"
      ],
      "metadata": {
        "id": "cAbhUlIWcgfq"
      }
    },
    {
      "cell_type": "code",
      "source": [],
      "metadata": {
        "id": "yYsWxImxchjD"
      },
      "execution_count": null,
      "outputs": []
    },
    {
      "cell_type": "markdown",
      "source": [
        "##Variables\n",
        "\n",
        "Python has no command for declaring a variable.\n",
        "\n",
        "A variable is created the moment you first assign a value to it."
      ],
      "metadata": {
        "id": "108qFeZbcBZs"
      }
    },
    {
      "cell_type": "code",
      "source": [
        "\n",
        "print(x)\n",
        "print(y)"
      ],
      "metadata": {
        "id": "JZ5TJCpyWmsD"
      },
      "execution_count": null,
      "outputs": []
    },
    {
      "cell_type": "markdown",
      "source": [
        "If you want to specify the data type of a variable, this can be done with casting."
      ],
      "metadata": {
        "id": "XF5XHu8Hc3z5"
      }
    },
    {
      "cell_type": "code",
      "source": [
        "    # x will be '3'\n",
        "    # y will be 3\n",
        "    # z will be 3.0"
      ],
      "metadata": {
        "id": "1kBEwbIwcJmA"
      },
      "execution_count": null,
      "outputs": []
    },
    {
      "cell_type": "markdown",
      "source": [
        "You can get the data type of a variable with the type() function."
      ],
      "metadata": {
        "id": "ztEP5cVhc9Hq"
      }
    },
    {
      "cell_type": "code",
      "source": [
        "\n",
        "print(type(x))\n",
        "print(type(y))"
      ],
      "metadata": {
        "id": "pHQxxcDXcLia"
      },
      "execution_count": null,
      "outputs": []
    },
    {
      "cell_type": "markdown",
      "source": [
        "Python allows you to assign values to multiple variables in one line:"
      ],
      "metadata": {
        "id": "qOlktcrcdK7K"
      }
    },
    {
      "cell_type": "code",
      "source": [
        "\n",
        "print(x)\n",
        "print(y)\n",
        "print(z)"
      ],
      "metadata": {
        "id": "vBj8XNc0c-tw"
      },
      "execution_count": null,
      "outputs": []
    },
    {
      "cell_type": "markdown",
      "source": [
        "##User Input\n",
        "Python allows for user input.\n",
        "\n",
        "That means we are able to ask the user for input."
      ],
      "metadata": {
        "id": "uM40MSXZj9L5"
      }
    },
    {
      "cell_type": "code",
      "source": [
        "\n",
        "print(\"Username is: \" + username)"
      ],
      "metadata": {
        "id": "KviLhzmlkCbZ"
      },
      "execution_count": null,
      "outputs": []
    },
    {
      "cell_type": "markdown",
      "source": [
        "##Strings"
      ],
      "metadata": {
        "id": "GZ-OU72qdin1"
      }
    },
    {
      "cell_type": "markdown",
      "source": [
        "Strings in python are surrounded by either single quotation marks, or double quotation marks."
      ],
      "metadata": {
        "id": "LmD3f0qbdxGD"
      }
    },
    {
      "cell_type": "code",
      "source": [],
      "metadata": {
        "id": "EwAQOgyxdM9g"
      },
      "execution_count": null,
      "outputs": []
    },
    {
      "cell_type": "markdown",
      "source": [
        "Get the character at position 1 (remember that the first character has the position 0):"
      ],
      "metadata": {
        "id": "bhfBVYPDd9dP"
      }
    },
    {
      "cell_type": "code",
      "source": [
        "a = \"Hello, World!\"\n",
        "print()"
      ],
      "metadata": {
        "id": "jeLvbnUTdy-L"
      },
      "execution_count": null,
      "outputs": []
    },
    {
      "cell_type": "markdown",
      "source": [
        "Since strings are arrays, we can loop through the characters in a string, with a for loop."
      ],
      "metadata": {
        "id": "XC_27AedeCDl"
      }
    },
    {
      "cell_type": "code",
      "source": [],
      "metadata": {
        "id": "fQCzMA3Ed_IE"
      },
      "execution_count": null,
      "outputs": []
    },
    {
      "cell_type": "markdown",
      "source": [
        "You can return a range of characters by using the slice syntax.\n",
        "\n",
        "Specify the start index and the end index, separated by a colon, to return a part of the string."
      ],
      "metadata": {
        "id": "e1jLAOh5eQb6"
      }
    },
    {
      "cell_type": "code",
      "source": [
        "b = \"Hello, World!\"\n",
        "print()"
      ],
      "metadata": {
        "id": "uHV9_x_neEv3"
      },
      "execution_count": null,
      "outputs": []
    },
    {
      "cell_type": "markdown",
      "source": [
        "By leaving out the start index, the range will start at the first character:"
      ],
      "metadata": {
        "id": "2LTLF3-yeYU6"
      }
    },
    {
      "cell_type": "code",
      "source": [
        "b = \"Hello, World!\"\n",
        "print()"
      ],
      "metadata": {
        "id": "K8akXV9feSBk"
      },
      "execution_count": null,
      "outputs": []
    },
    {
      "cell_type": "markdown",
      "source": [
        "By leaving out the end index, the range will go to the end:"
      ],
      "metadata": {
        "id": "6_CUgewkeduB"
      }
    },
    {
      "cell_type": "code",
      "source": [
        "b = \"Hello, World!\"\n",
        "print()"
      ],
      "metadata": {
        "id": "5DDX_WY9eaF-"
      },
      "execution_count": null,
      "outputs": []
    },
    {
      "cell_type": "markdown",
      "source": [
        "##Boolean Values\n",
        "\n",
        "In programming you often need to know if an expression is True or False.\n",
        "\n",
        "You can evaluate any expression in Python, and get one of two answers, True or False.\n",
        "\n",
        "When you compare two values, the expression is evaluated and Python returns the Boolean answer:"
      ],
      "metadata": {
        "id": "l4YrZB_RetSc"
      }
    },
    {
      "cell_type": "code",
      "source": [
        "print(10 > 9)\n",
        "print(10 == 9)\n",
        "print(10 < 9)"
      ],
      "metadata": {
        "id": "gq7_zeEdewI7"
      },
      "execution_count": null,
      "outputs": []
    },
    {
      "cell_type": "markdown",
      "source": [
        "##List\n",
        "Lists are used to store multiple items in a single variable.\n",
        "\n",
        "Lists are one of 4 built-in data types in Python used to store collections of data, the other 3 are Tuple, Set, and Dictionary, all with different qualities and usage.\n",
        "\n",
        "Lists are created using square brackets:"
      ],
      "metadata": {
        "id": "YJygGCFtgO67"
      }
    },
    {
      "cell_type": "code",
      "source": [
        "\n",
        "print(thislist)"
      ],
      "metadata": {
        "id": "mMp0aB14gThb"
      },
      "execution_count": null,
      "outputs": []
    },
    {
      "cell_type": "markdown",
      "source": [
        "### List Length\n",
        "To determine how many items a list has, use the len() function:"
      ],
      "metadata": {
        "id": "YSq2s08DhHxZ"
      }
    },
    {
      "cell_type": "code",
      "source": [
        "thislist = [\"apple\", \"banana\", \"cherry\"]\n",
        "print()"
      ],
      "metadata": {
        "id": "0yOmw4HbgXGQ"
      },
      "execution_count": null,
      "outputs": []
    },
    {
      "cell_type": "markdown",
      "source": [
        "###Access Items\n",
        "List items are indexed and you can access them by referring to the index number:"
      ],
      "metadata": {
        "id": "H2SFGunkgo-D"
      }
    },
    {
      "cell_type": "code",
      "source": [
        "thislist = [\"apple\", \"banana\", \"cherry\"]\n",
        "print()"
      ],
      "metadata": {
        "id": "EviwJ0uHgiLI"
      },
      "execution_count": null,
      "outputs": []
    },
    {
      "cell_type": "markdown",
      "source": [
        "###Negative Indexing\n",
        "Negative indexing means start from the end\n",
        "\n",
        "-1 refers to the last item, -2 refers to the second last item etc."
      ],
      "metadata": {
        "id": "tas__3fCgvAQ"
      }
    },
    {
      "cell_type": "code",
      "source": [
        "thislist = [\"apple\", \"banana\", \"cherry\"]\n",
        "print()"
      ],
      "metadata": {
        "id": "nL6c6GCbgqlq"
      },
      "execution_count": null,
      "outputs": []
    },
    {
      "cell_type": "markdown",
      "source": [
        "###Range of Indexes\n",
        "You can specify a range of indexes by specifying where to start and where to end the range.\n",
        "\n",
        "When specifying a range, the return value will be a new list with the specified items."
      ],
      "metadata": {
        "id": "vVd9bBRog0Ox"
      }
    },
    {
      "cell_type": "code",
      "source": [
        "thislist = [\"apple\", \"banana\", \"cherry\", \"orange\", \"kiwi\", \"melon\", \"mango\"]\n",
        "print()"
      ],
      "metadata": {
        "id": "Fkrm_UJbgw3e"
      },
      "execution_count": null,
      "outputs": []
    },
    {
      "cell_type": "markdown",
      "source": [
        "###Change Item Value\n",
        "To change the value of a specific item, refer to the index number:"
      ],
      "metadata": {
        "id": "HLVKL7fNg7Qg"
      }
    },
    {
      "cell_type": "code",
      "source": [
        "thislist = [\"apple\", \"banana\", \"cherry\"]\n",
        "\n",
        "print(thislist)"
      ],
      "metadata": {
        "id": "ALJ4j4VQg7rT"
      },
      "execution_count": null,
      "outputs": []
    },
    {
      "cell_type": "markdown",
      "source": [
        "To insert a new list item, without replacing any of the existing values, we can use the insert() method.\n",
        "\n",
        "The insert() method inserts an item at the specified index:"
      ],
      "metadata": {
        "id": "t9in1BJrhBqR"
      }
    },
    {
      "cell_type": "markdown",
      "source": [
        "###Append Items\n",
        "To add an item to the end of the list, use the append() method:"
      ],
      "metadata": {
        "id": "rRlFvBEhhqRn"
      }
    },
    {
      "cell_type": "code",
      "source": [
        "thislist = [\"apple\", \"banana\", \"cherry\"]\n",
        "\n",
        "print(thislist)"
      ],
      "metadata": {
        "id": "4BEotnagg9W-"
      },
      "execution_count": null,
      "outputs": []
    },
    {
      "cell_type": "markdown",
      "source": [
        "###Insert Items\n",
        "To insert a list item at a specified index, use the insert() method.\n",
        "\n",
        "The insert() method inserts an item at the specified index:"
      ],
      "metadata": {
        "id": "sPBkE4mxh0mF"
      }
    },
    {
      "cell_type": "code",
      "source": [
        "thislist = [\"apple\", \"banana\", \"cherry\"]\n",
        "\n",
        "print(thislist)"
      ],
      "metadata": {
        "id": "bjFyb56whsca"
      },
      "execution_count": null,
      "outputs": []
    },
    {
      "cell_type": "markdown",
      "source": [
        "###Remove Specified Item\n",
        "The remove() method removes the specified item."
      ],
      "metadata": {
        "id": "LL5lreUFh74Q"
      }
    },
    {
      "cell_type": "code",
      "source": [
        "thislist = [\"apple\", \"banana\", \"cherry\"]\n",
        "\n",
        "print(thislist)"
      ],
      "metadata": {
        "id": "tyR1k9I3h2nR"
      },
      "execution_count": null,
      "outputs": []
    },
    {
      "cell_type": "markdown",
      "source": [
        "###Remove Specified Index\n",
        "The pop() method removes the specified index."
      ],
      "metadata": {
        "id": "3UGG6g1IiB-N"
      }
    },
    {
      "cell_type": "code",
      "source": [
        "thislist = [\"apple\", \"banana\", \"cherry\"]\n",
        "\n",
        "print(thislist)"
      ],
      "metadata": {
        "id": "pGdmMJadh-P4"
      },
      "execution_count": null,
      "outputs": []
    },
    {
      "cell_type": "markdown",
      "source": [
        "###Loop Through a List\n",
        "You can loop through the list items by using a for loop:"
      ],
      "metadata": {
        "id": "AJCv9O61iKVy"
      }
    },
    {
      "cell_type": "code",
      "source": [
        "thislist = [\"apple\", \"banana\", \"cherry\"]\n"
      ],
      "metadata": {
        "id": "R44eCiT_iElv"
      },
      "execution_count": null,
      "outputs": []
    },
    {
      "cell_type": "markdown",
      "source": [
        "###Loop Through the Index Numbers\n",
        "You can also loop through the list items by referring to their index number.\n",
        "\n",
        "Use the range() and len() functions to create a suitable iterable."
      ],
      "metadata": {
        "id": "eQbn1KhBiO7y"
      }
    },
    {
      "cell_type": "code",
      "source": [
        "thislist = [\"apple\", \"banana\", \"cherry\"]\n"
      ],
      "metadata": {
        "id": "nGDfMjqFiMSS"
      },
      "execution_count": null,
      "outputs": []
    },
    {
      "cell_type": "markdown",
      "source": [
        "###Sort List Alphanumerically\n",
        "List objects have a sort() method that will sort the list alphanumerically, ascending, by default:"
      ],
      "metadata": {
        "id": "NoccfPoYiZVk"
      }
    },
    {
      "cell_type": "code",
      "source": [
        "thislist = [\"orange\", \"mango\", \"kiwi\", \"pineapple\", \"banana\"]\n",
        "\n",
        "print(thislist)"
      ],
      "metadata": {
        "id": "f_RtCEehiSti"
      },
      "execution_count": null,
      "outputs": []
    },
    {
      "cell_type": "code",
      "source": [
        "thislist = [100, 50, 65, 82, 23]\n",
        "\n",
        "print(thislist)"
      ],
      "metadata": {
        "id": "2MjiI6bTicw0"
      },
      "execution_count": null,
      "outputs": []
    },
    {
      "cell_type": "markdown",
      "source": [
        "##If ... Else\n",
        "\n",
        "Python supports the usual logical conditions from mathematics:\n",
        "\n",
        "* Equals: a == b\n",
        "* Not Equals: a != b\n",
        "* Less than: a < b\n",
        "* Less than or equal to: a <= b\n",
        "* Greater than: a > b\n",
        "* Greater than or equal to: a >= b\n",
        "\n",
        "These conditions can be used in several ways, most commonly in \"if statements\" and loops.\n",
        "\n",
        "An \"if statement\" is written by using the if keyword."
      ],
      "metadata": {
        "id": "SFUm7CUtkcl3"
      }
    },
    {
      "cell_type": "markdown",
      "source": [
        "###if statement"
      ],
      "metadata": {
        "id": "wfApcWHmkqMm"
      }
    },
    {
      "cell_type": "code",
      "source": [
        "a = 33\n",
        "b = 200\n"
      ],
      "metadata": {
        "id": "m2TWEKJ5id_i"
      },
      "execution_count": null,
      "outputs": []
    },
    {
      "cell_type": "markdown",
      "source": [
        "###elif statement\n",
        "The elif keyword is Python's way of saying \"if the previous conditions were not true, then try this condition\"."
      ],
      "metadata": {
        "id": "BkaSrF2EkuNg"
      }
    },
    {
      "cell_type": "code",
      "source": [
        "a = 33\n",
        "b = 33\n"
      ],
      "metadata": {
        "id": "ShifsEnxknfx"
      },
      "execution_count": null,
      "outputs": []
    },
    {
      "cell_type": "markdown",
      "source": [
        "###else statement\n",
        "The else keyword catches anything which isn't caught by the preceding conditions."
      ],
      "metadata": {
        "id": "pUFgzcJKk1Pb"
      }
    },
    {
      "cell_type": "code",
      "source": [
        "a = 200\n",
        "b = 33\n"
      ],
      "metadata": {
        "id": "4SJo0sk5kz_Y"
      },
      "execution_count": null,
      "outputs": []
    },
    {
      "cell_type": "markdown",
      "source": [
        "##Loops\n"
      ],
      "metadata": {
        "id": "fl6BMPnTlBcv"
      }
    },
    {
      "cell_type": "markdown",
      "source": [
        "###while\n",
        "With the while loop we can execute a set of statements as long as a condition is true."
      ],
      "metadata": {
        "id": "K4OqKJUfmgts"
      }
    },
    {
      "cell_type": "code",
      "source": [
        "i = 1\n"
      ],
      "metadata": {
        "id": "U98fQdOkk5bK"
      },
      "execution_count": null,
      "outputs": []
    },
    {
      "cell_type": "markdown",
      "source": [
        "With the break statement we can stop the loop even if the while condition is true:"
      ],
      "metadata": {
        "id": "4Eig1TeVlL-U"
      }
    },
    {
      "cell_type": "code",
      "source": [
        "i = 1\n"
      ],
      "metadata": {
        "id": "CLCX-opxlI11"
      },
      "execution_count": null,
      "outputs": []
    },
    {
      "cell_type": "markdown",
      "source": [
        "###for\n",
        "A for loop is used for iterating over a sequence (that is either a list, a tuple, a dictionary, a set, or a string)."
      ],
      "metadata": {
        "id": "isVLkyDyldFt"
      }
    },
    {
      "cell_type": "code",
      "source": [
        "fruits = [\"apple\", \"banana\", \"cherry\"]\n"
      ],
      "metadata": {
        "id": "EqSEjg2AlOMh"
      },
      "execution_count": null,
      "outputs": []
    },
    {
      "cell_type": "markdown",
      "source": [
        "## Excercise\n",
        "Create a Python script that asks for a series of user inputs representing random grocery items. The script should add these items to a list. Once the user decides to stop inputting items (user input=\"stop\"), it should then iterate over the list, outputting each item."
      ],
      "metadata": {
        "id": "xWCA3N_MlmSx"
      }
    },
    {
      "cell_type": "code",
      "source": [
        "# initialize the list\n",
        "\n",
        "#loop\n",
        "\n",
        "    # get user input\n",
        "\n",
        "\n",
        "    # stop condition\n",
        "\n",
        "\n",
        "    # add the item to the list\n",
        "\n",
        "\n",
        "# output each item\n"
      ],
      "metadata": {
        "id": "LHo7gXnelivu"
      },
      "execution_count": null,
      "outputs": []
    },
    {
      "cell_type": "markdown",
      "source": [
        "##Functions\n",
        "\n",
        "A function is a block of code which only runs when it is called.\n",
        "\n",
        "You can pass data, known as parameters, into a function.\n",
        "\n",
        "A function can return data as a result."
      ],
      "metadata": {
        "id": "Fg9PW6ofmtsE"
      }
    },
    {
      "cell_type": "markdown",
      "source": [
        "###Creating a Function\n",
        "In Python a function is defined using the def keyword:"
      ],
      "metadata": {
        "id": "bZs79kBum1dG"
      }
    },
    {
      "cell_type": "code",
      "source": [],
      "metadata": {
        "id": "V9FcHfcYl-jY"
      },
      "execution_count": null,
      "outputs": []
    },
    {
      "cell_type": "markdown",
      "source": [
        "###Calling a Function\n",
        "To call a function, use the function name followed by parenthesis:"
      ],
      "metadata": {
        "id": "TeB0fwJ-m5b0"
      }
    },
    {
      "cell_type": "code",
      "source": [
        "def my_function():\n",
        "  print(\"Hello from a function\")\n",
        "\n"
      ],
      "metadata": {
        "id": "ovga2YBum3kY"
      },
      "execution_count": null,
      "outputs": []
    },
    {
      "cell_type": "markdown",
      "source": [
        "###Arguments\n",
        "Information can be passed into functions as arguments.\n",
        "\n",
        "Arguments are specified after the function name, inside the parentheses. You can add as many arguments as you want, just separate them with a comma.\n",
        "\n",
        "The following example has a function with one argument (fname). When the function is called, we pass along a first name, which is used inside the function to print the full name:"
      ],
      "metadata": {
        "id": "9U-CEuWAnAyZ"
      }
    },
    {
      "cell_type": "code",
      "source": [
        "def my_function(fname):\n",
        "  print(fname + \" Refsnes\")\n",
        "\n"
      ],
      "metadata": {
        "id": "Bw14OLe_m7dF"
      },
      "execution_count": null,
      "outputs": []
    },
    {
      "cell_type": "markdown",
      "source": [
        "###Keyword Arguments\n",
        "You can also send arguments with the key = value syntax.\n",
        "\n",
        "This way the order of the arguments does not matter."
      ],
      "metadata": {
        "id": "ucCi_DrsnLYj"
      }
    },
    {
      "cell_type": "code",
      "source": [
        "def my_function():\n",
        "  print(\"The youngest child is \" + child3)\n",
        "\n"
      ],
      "metadata": {
        "id": "3es1p5vlnFGj"
      },
      "execution_count": null,
      "outputs": []
    },
    {
      "cell_type": "markdown",
      "source": [
        "###Return Values\n",
        "To let a function return a value, use the return statement:"
      ],
      "metadata": {
        "id": "fDIvGFDCn6Ve"
      }
    },
    {
      "cell_type": "code",
      "source": [
        "def my_function():\n",
        "\n",
        "\n"
      ],
      "metadata": {
        "id": "ZJg_ogfZn-X_"
      },
      "execution_count": null,
      "outputs": []
    },
    {
      "cell_type": "markdown",
      "source": [
        "## Excercise\n",
        "\n",
        "Create a Python function named 'calculator' that takes three parameters: 'num1', 'operator', and 'num2'. This function works as a basic calculator performing addition, subtraction, multiplication, and division operations. The 'operator' parameter is a string representing the operation to be performed. If the operator is \"+\", the function returns the result of 'num1' plus 'num2'. If it is \"-\", it returns the difference of 'num1' and 'num2'. If \"*\", the function returns the multiplication of 'num1' and 'num2'. If \"/\", it checks if 'num1' is not equal to zero first, then returns 'num1' divided by 'num2' but if 'num1' equals zero, it will return an error message \"Error: Division by zero.\". If the 'operator' provided does not correspond to any of these options, it returns \"Error: Invalid operator.\""
      ],
      "metadata": {
        "id": "lqs_mVoonUAP"
      }
    },
    {
      "cell_type": "code",
      "source": [
        "def calculator(num1, operator, num2):\n"
      ],
      "metadata": {
        "id": "ms2x__r1nMx2"
      },
      "execution_count": null,
      "outputs": []
    }
  ]
}