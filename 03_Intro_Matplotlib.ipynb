{
  "nbformat": 4,
  "nbformat_minor": 0,
  "metadata": {
    "colab": {
      "provenance": [],
      "authorship_tag": "ABX9TyOOzBLqIosMrWMJmkoFJ8kE",
      "include_colab_link": true
    },
    "kernelspec": {
      "name": "python3",
      "display_name": "Python 3"
    },
    "language_info": {
      "name": "python"
    }
  },
  "cells": [
    {
      "cell_type": "markdown",
      "metadata": {
        "id": "view-in-github",
        "colab_type": "text"
      },
      "source": [
        "<a href=\"https://colab.research.google.com/github/schauppi/UAS_Intro_ML/blob/main/Intro_Matplotlib_raw.ipynb\" target=\"_parent\"><img src=\"https://colab.research.google.com/assets/colab-badge.svg\" alt=\"Open In Colab\"/></a>"
      ]
    },
    {
      "cell_type": "markdown",
      "source": [
        "#Matplotlib\n",
        "Matplotlib is a comprehensive library for creating static, animated, and interactive visualizations in Python."
      ],
      "metadata": {
        "id": "lo6LZZpsWAtX"
      }
    },
    {
      "cell_type": "markdown",
      "source": [
        "##Plotting your first graph\n",
        "First we need to import the `matplotlib` library."
      ],
      "metadata": {
        "id": "PcTWieAwWQQ0"
      }
    },
    {
      "cell_type": "code",
      "source": [
        "import matplotlib\n",
        "import matplotlib.pyplot as plt"
      ],
      "metadata": {
        "id": "E7KHFjenWB9o"
      },
      "execution_count": null,
      "outputs": []
    },
    {
      "cell_type": "markdown",
      "source": [
        "Now let's plot our first graph! :)"
      ],
      "metadata": {
        "id": "qW6cDS16Wafd"
      }
    },
    {
      "cell_type": "code",
      "source": [],
      "metadata": {
        "id": "Hz5wZO6wWW02"
      },
      "execution_count": null,
      "outputs": []
    },
    {
      "cell_type": "markdown",
      "source": [
        "Yep, it's as simple as calling the `plot` function with some data, and then calling the `show` function!"
      ],
      "metadata": {
        "id": "27xTPjMsWl2h"
      }
    },
    {
      "cell_type": "markdown",
      "source": [
        "**Note**:\n",
        "\n",
        "> Matplotlib can output graphs using various backend graphics libraries, such as Tk, wxPython, etc. When running Python using the command line, you may want to specify which backend to use right after importing matplotlib and before plotting anything. For example, to use the Tk backend, run `matplotlib.use(\"TKAgg\")`.\n",
        "> However, in a Jupyter notebook, things are easier: importing `import matplotlib.pyplot` automatically registers Jupyter itself as a backend, so the graphs show up directly within the notebook. It used to require running `%matplotlib inline`, so you'll still see it in some notebooks, but it's not needed anymore."
      ],
      "metadata": {
        "id": "HEkHacYkWqXI"
      }
    },
    {
      "cell_type": "markdown",
      "source": [
        "The axes automatically match the extent of the data. We would like to give the graph a bit more room, so let's call the `axis` function to change the extent of each axis `[xmin, xmax, ymin, ymax]`."
      ],
      "metadata": {
        "id": "_X5xdtYOWt4b"
      }
    },
    {
      "cell_type": "code",
      "source": [
        "plt.plot([-3, -2, 5, 0], [1, 6, 4, 3])"
      ],
      "metadata": {
        "id": "YqnfBjkdWnMj"
      },
      "execution_count": null,
      "outputs": []
    },
    {
      "cell_type": "markdown",
      "source": [
        "Now, let's plot a mathematical function. We use NumPy's `linspace` function to create an array `x` containing 500 floats ranging from -2 to 2, then we create a second array `y` computed as the square of `x`."
      ],
      "metadata": {
        "id": "sbAkS_oRW-TS"
      }
    },
    {
      "cell_type": "code",
      "source": [
        "import numpy as np\n",
        "\n"
      ],
      "metadata": {
        "id": "hcB69titXAML"
      },
      "execution_count": null,
      "outputs": []
    },
    {
      "cell_type": "markdown",
      "source": [
        "That's a bit dry, let's add a title, and x and y labels, and draw a grid."
      ],
      "metadata": {
        "id": "nRMl9y0zXFME"
      }
    },
    {
      "cell_type": "code",
      "source": [],
      "metadata": {
        "id": "s8Qk0jC2XGPF"
      },
      "execution_count": null,
      "outputs": []
    },
    {
      "cell_type": "markdown",
      "source": [
        "##Line style and color"
      ],
      "metadata": {
        "id": "Jj--XUHHXRg5"
      }
    },
    {
      "cell_type": "markdown",
      "source": [
        "By default, matplotlib draws a line between consecutive points."
      ],
      "metadata": {
        "id": "-LkvLTKLXWHz"
      }
    },
    {
      "cell_type": "code",
      "source": [
        "\n",
        "plt.plot(x)"
      ],
      "metadata": {
        "id": "yOK9TR4QXSwB"
      },
      "execution_count": null,
      "outputs": []
    },
    {
      "cell_type": "markdown",
      "source": [
        "You can also draw simple points instead of lines. Here's an example with green dashes, red dotted line and blue triangles.\n",
        "Check out [the documentation](https://matplotlib.org/stable/api/_as_gen/matplotlib.pyplot.plot.html#matplotlib.pyplot.plot) for the full list of style & color options.\n",
        "\n",
        "   - `x, x, 'g--'`: A green dashed line (`g--`), representing the function y = x.\n",
        "\n",
        "   - `x, x**2, 'r:'`: A red dotted line (`r:`), representing the function y = x².\n",
        "\n",
        "   - `x, x**3, 'b^'`: A set of blue triangle markers (`b^`), representing the function y = x³."
      ],
      "metadata": {
        "id": "SD_QJv_9Xn0T"
      }
    },
    {
      "cell_type": "code",
      "source": [
        "x = np.linspace(-1.4, 1.4, 30)\n",
        "\n",
        "plt.show()"
      ],
      "metadata": {
        "id": "YLEDjDkVXewy"
      },
      "execution_count": null,
      "outputs": []
    },
    {
      "cell_type": "markdown",
      "source": [
        "## Saving a figure\n",
        "Saving a figure to disk is as simple as calling [`savefig`](https://matplotlib.org/stable/api/_as_gen/matplotlib.pyplot.savefig.html) with the name of the file (or a file object). The available image formats depend on the graphics backend you use."
      ],
      "metadata": {
        "id": "aRtGPX_BXuPU"
      }
    },
    {
      "cell_type": "code",
      "source": [
        "x = np.linspace(-1.4, 1.4, 30)\n",
        "plt.plot(x, x**2)\n"
      ],
      "metadata": {
        "id": "COpUkc-_XqXU"
      },
      "execution_count": null,
      "outputs": []
    },
    {
      "cell_type": "markdown",
      "source": [
        "## Subplots\n",
        "A matplotlib figure may contain multiple subplots. These subplots are organized in a grid. To create a subplot, just call the `subplot` function, and specify the number of rows and columns in the figure, and the index of the subplot you want to draw on (starting from 1, then left to right, and top to bottom). Note that pyplot keeps track of the currently active subplot (which you can get a reference to by calling `plt.gca()`), so when you call the `plot` function, it draws on the *active* subplot."
      ],
      "metadata": {
        "id": "-52nUoZAX341"
      }
    },
    {
      "cell_type": "code",
      "source": [
        "x = np.linspace(-1.4, 1.4, 30)\n",
        "  # 2 rows, 2 columns, 1st subplot = top left\n",
        "plt.plot(x, x)\n",
        "  # 2 rows, 2 columns, 2nd subplot = top right\n",
        "plt.plot(x, x**2)\n",
        "  # 2 rows, 2 columns, 3rd subplot = bottom left\n",
        "plt.plot(x, x**3)\n",
        "  # 2 rows, 2 columns, 4th subplot = bottom right\n",
        "plt.plot(x, x**4)\n",
        "plt.show()"
      ],
      "metadata": {
        "id": "4L90kK05X7UJ"
      },
      "execution_count": null,
      "outputs": []
    },
    {
      "cell_type": "markdown",
      "source": [
        "* Note that `subplot(223)` is a shorthand for `subplot(2, 2, 3)`."
      ],
      "metadata": {
        "id": "QdURGtIOX_Wg"
      }
    },
    {
      "cell_type": "markdown",
      "source": [
        "It is easy to create subplots that span across multiple grid cells like so:"
      ],
      "metadata": {
        "id": "e4ZYWf8kYDTu"
      }
    },
    {
      "cell_type": "code",
      "source": [
        "  # 2 rows, 2 columns, 1st subplot = top left\n",
        "plt.plot(x, x)\n",
        "  # 2 rows, 2 columns, 2nd subplot = top right\n",
        "plt.plot(x, x**2)\n",
        "  # 2 rows, *1* column, 2nd subplot = bottom\n",
        "plt.plot(x, x**3)\n",
        "plt.show()"
      ],
      "metadata": {
        "id": "HWb0QjkiX71L"
      },
      "execution_count": null,
      "outputs": []
    },
    {
      "cell_type": "markdown",
      "source": [
        "## Drawing text\n",
        "You can call `text` to add text at any location in the graph. Just specify the horizontal and vertical coordinates and the text, and optionally some extra arguments. Any text in matplotlib may contain TeX equation expressions, see [the documentation](https://matplotlib.org/stable/tutorials/text/mathtext.html) for more details."
      ],
      "metadata": {
        "id": "ydSBz0cbYM0J"
      }
    },
    {
      "cell_type": "code",
      "source": [
        "x = np.linspace(-1.5, 1.5, 30)\n",
        "px = 0.8\n",
        "py = px**2\n",
        "\n",
        "plt.plot(x, x**2, \"b-\", px, py, \"ro\")\n",
        "\n",
        "plt.text(0, 1.5, \"Square function\\n$y = x^2$\", fontsize=20, color='blue',\n",
        "         horizontalalignment=\"center\")\n",
        "plt.text(px - 0.08, py, \"Beautiful point\", ha=\"right\", weight=\"heavy\")\n",
        "plt.text(px + 0.05, py - 0.4, \"x = %0.2f\\ny = %0.2f\"%(px, py), rotation=-30,\n",
        "         color='gray')\n",
        "\n",
        "plt.show()"
      ],
      "metadata": {
        "id": "EzvuBl2SYFlf"
      },
      "execution_count": null,
      "outputs": []
    },
    {
      "cell_type": "markdown",
      "source": [
        "* Note: `ha` is an alias for `horizontalalignment`\n",
        "\n",
        "For more text properties, visit [the documentation](https://matplotlib.org/stable/tutorials/text/text_props.html)."
      ],
      "metadata": {
        "id": "G4XXcBMHYS43"
      }
    },
    {
      "cell_type": "markdown",
      "source": [
        "##Histograms"
      ],
      "metadata": {
        "id": "IkxkErfiYuJl"
      }
    },
    {
      "cell_type": "code",
      "source": [
        "data = [1, 1.1, 1.8, 2, 2.1, 3.2, 3, 3, 3, 3]\n",
        "plt.subplot(211)\n",
        "\n",
        "\n",
        "plt.subplot(212)\n",
        "\n",
        "\n",
        "plt.show()"
      ],
      "metadata": {
        "id": "WUIZOoJxYv3i"
      },
      "execution_count": null,
      "outputs": []
    }
  ]
}